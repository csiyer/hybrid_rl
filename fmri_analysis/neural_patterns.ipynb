{
 "cells": [
  {
   "cell_type": "code",
   "execution_count": 10,
   "metadata": {},
   "outputs": [],
   "source": [
    "import os, glob\n",
    "import numpy as np\n",
    "import pandas as pd\n",
    "import nibabel as nib\n",
    "from nilearn import masking\n",
    "import matplotlib.pyplot as plt\n",
    "import scipy.stats\n",
    "import neural_helpers as nh\n",
    "\n",
    "%load_ext autoreload\n",
    "%autoreload 2\n",
    "\n",
    "nibs_base = '/Volumes/shohamy-locker/chris/hybrid_mri_bids/derivatives/nibetaseries'"
   ]
  },
  {
   "cell_type": "markdown",
   "metadata": {},
   "source": [
    "# Extract & normalize hippocampal patterns\n",
    "(smooth? ~2mm kernel)"
   ]
  },
  {
   "cell_type": "code",
   "execution_count": 27,
   "metadata": {},
   "outputs": [
    {
     "data": {
      "text/plain": [
       "(400,)"
      ]
     },
     "execution_count": 27,
     "metadata": {},
     "output_type": "execute_result"
    }
   ],
   "source": [
    "test = np.load('/Volumes/shohamy-locker/chris/hybrid_mri_bids/derivatives/nibetaseries/sub-hybrid01/func/sub-hybrid01_task-main_run-1_space-MNI152NLin2009cAsym_desc-choice_betaseries_hipp.npy')\n",
    "test.mean(axis=1).shape"
   ]
  },
  {
   "cell_type": "code",
   "execution_count": null,
   "metadata": {},
   "outputs": [
    {
     "name": "stdout",
     "output_type": "stream",
     "text": [
      "/Volumes/shohamy-locker/chris/hybrid_mri_bids/derivatives/nibetaseries/sub-hybrid13/func/sub-hybrid13_task-main_run-3_space-MNI152NLin2009cAsym_desc-fb_betaseries_hipp_norm.npy\n",
      "/Volumes/shohamy-locker/chris/hybrid_mri_bids/derivatives/nibetaseries/sub-hybrid13/func/sub-hybrid13_task-main_run-3_space-MNI152NLin2009cAsym_desc-choice_betaseries_hipp_norm.npy\n"
     ]
    }
   ],
   "source": [
    "base = '/Volumes/shohamy-locker/chris/hybrid_mri_bids/derivatives/nibetaseries'\n",
    "\n",
    "import glob\n",
    "hipp_files = glob.glob(base + '/sub-hybrid??/func/*.npy')\n",
    "for fi \n",
    "from joblib import Parallel, delayed\n",
    "\n",
    "def norm_one_pattern(file): # timepoints x voxels\n",
    "    pattern = np.load(file)\n",
    "    normalized = (pattern - np.mean(pattern, axis=1, keepdims=True)) / np.std(pattern, axis=1, keepdims=True)\n",
    "    outpath = file.replace('hipp.npy', 'hipp_norm.npy')\n",
    "    np.save(outpath, normalized)\n",
    "    os.remove(file)\n",
    "\n",
    "Parallel(n_jobs=4)( delayed(norm_one_pattern)(f) for f in hipp_files )"
   ]
  },
  {
   "cell_type": "code",
   "execution_count": null,
   "metadata": {},
   "outputs": [],
   "source": [
    "paths = ['/Volumes/shohamy-locker/chris/hybrid_mri_bids/derivatives/nibetaseries/sub-hybrid13/func/sub-hybrid13_task-main_run-3_space-MNI152NLin2009cAsym_desc-fb_betaseries_hipp_norm.npy',\n",
    "         '/Volumes/shohamy-locker/chris/hybrid_mri_bids/derivatives/nibetaseries/sub-hybrid13/func/sub-hybrid13_task-main_run-3_space-MNI152NLin2009cAsym_desc-choice_betaseries_hipp_norm.npy'\n",
    "]\n",
    "beta_paths = ['/Volumes/shohamy-locker/chris/hybrid_mri_bids/derivatives/nibetaseries/sub-hybrid13/func/sub-hybrid13_task-main_run-3_space-MNI152NLin2009cAsym_desc-fb_betaseries_betaseries.nii.gz',\n",
    "              '/Volumes/shohamy-locker/chris/hybrid_mri_bids/derivatives/nibetaseries/sub-hybrid13/func/sub-hybrid13_task-main_run-3_space-MNI152NLin2009cAsym_desc-choice_betaseries_betaseries.nii.gz'\n",
    "]\n",
    "path = paths[0]\n",
    "\n",
    "beta_data = nib.load(beta_file).get_fdata()"
   ]
  },
  {
   "cell_type": "markdown",
   "metadata": {},
   "source": [
    "# Pattern analyses"
   ]
  },
  {
   "cell_type": "code",
   "execution_count": null,
   "metadata": {},
   "outputs": [],
   "source": [
    "beh = pd.read_csv('./data/hybrid_data.csv')\n",
    "# remember to exclude trials from first 6 volumes that don't exist in fmri data"
   ]
  },
  {
   "cell_type": "markdown",
   "metadata": {},
   "source": [
    "1) Correlation of encoding to retrieval trials - compare optimal to non-optimal memory"
   ]
  },
  {
   "cell_type": "code",
   "execution_count": null,
   "metadata": {},
   "outputs": [],
   "source": [
    "# encoding choice trial\n",
    "\n",
    "# encoding feedback trial\n",
    "\n",
    "# does ERS increase with time?"
   ]
  },
  {
   "cell_type": "markdown",
   "metadata": {},
   "source": [
    "2) Similarity kernel of retrieval trial to those around encoding trial. Does this similarity predict old/new trial performance? old vs. new choices, optimal vs. nonoptimal"
   ]
  },
  {
   "cell_type": "code",
   "execution_count": null,
   "metadata": {},
   "outputs": [],
   "source": []
  },
  {
   "cell_type": "markdown",
   "metadata": {},
   "source": [
    "- Predicting value\n",
    "- lucky vs. unlucky deck (value matched) on either encoding or retrieval\n",
    "- save vs. different luck state encoding vs. retrieval\n",
    "- predict subsequent retrieval from pattern at feedback of choice image"
   ]
  }
 ],
 "metadata": {
  "kernelspec": {
   "display_name": "hbi",
   "language": "python",
   "name": "python3"
  },
  "language_info": {
   "codemirror_mode": {
    "name": "ipython",
    "version": 3
   },
   "file_extension": ".py",
   "mimetype": "text/x-python",
   "name": "python",
   "nbconvert_exporter": "python",
   "pygments_lexer": "ipython3",
   "version": "3.9.16"
  }
 },
 "nbformat": 4,
 "nbformat_minor": 2
}
