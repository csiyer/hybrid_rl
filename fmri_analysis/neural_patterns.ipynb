{
 "cells": [
  {
   "cell_type": "code",
   "execution_count": null,
   "metadata": {},
   "outputs": [
    {
     "name": "stdout",
     "output_type": "stream",
     "text": [
      "The autoreload extension is already loaded. To reload it, use:\n",
      "  %reload_ext autoreload\n"
     ]
    }
   ],
   "source": [
    "import os, glob\n",
    "import numpy as np\n",
    "import pandas as pd\n",
    "import nibabel as nib\n",
    "import matplotlib.pyplot as plt\n",
    "import scipy.stats\n",
    "import neural_helpers as nh\n",
    "\n",
    "%load_ext autoreload\n",
    "%autoreload 2"
   ]
  },
  {
   "cell_type": "markdown",
   "metadata": {},
   "source": [
    "## GLMSingle"
   ]
  },
  {
   "cell_type": "code",
   "execution_count": 13,
   "metadata": {},
   "outputs": [],
   "source": [
    "import os\n",
    "import numpy as np\n",
    "import pandas as pd\n",
    "import nibabel as nib\n",
    "from glmsingle.glmsingle import GLM_single\n",
    "\n",
    "BASEDIR='/Volumes/shohamy-locker/chris/hybrid_mri_CSI' # /Volumes/shohamy-locker/shohamy_from_labshare/rgerraty/hybrid_mri\n",
    "behavior_dir='/Volumes/shohamy-locker/shohamy_from_labshare/rgerraty/hybrid_mri/behavior'\n",
    "bold_ext = 'fmriprep_bold_smoothed_masked.nii.gz' # 'preproc_6mm_6del_100s_mc/filtered_func_data.nii.gz\n",
    "# confounds_ext = 'fmriprep_confounds_24par.txt' # preproc_6mm_6del_100s_mc/mc/extended_confs_24par.txt\n",
    "OUTDIR='~/Downloads'\n",
    "\n",
    "TR=2\n",
    "STIMDUR=1.5 # modeling both the choice (response time + 3s delay) and FB (1.5s) periods as 1.5s"
   ]
  },
  {
   "cell_type": "code",
   "execution_count": null,
   "metadata": {},
   "outputs": [],
   "source": [
    "# for sub_id in sorted([i for i in os.listdir(BASEDIR) if 'TCST' in i]):\n",
    "#     sub_num=sub_id[-2:]\n",
    "#     subdir = os.path.join(BASEDIR, sub_id)\n",
    "#     for run_id in sorted([j for j in os.listdir(subdir) if 'hybrid' in j]):\n",
    "#         run_num=run_id[-1:]\n",
    "sub_id = 'TCST002'\n",
    "sub_num=sub_id[-2:]\n",
    "subdir = os.path.join(BASEDIR, sub_id)\n",
    "run_id = f'hybrid_r1'\n",
    "run_num=run_id[-1:]\n",
    "\n",
    "# load bold file\n",
    "bold_path = os.path.join(subdir, run_id, bold_ext)\n",
    "bold_data = nib.load(bold_path).get_fdata()\n",
    "\n",
    "# create design matrix from behavior files\n",
    "choice_ev = os.path.join(behavior_dir, f'{sub_num}_output/EV_files/choice_run{run_num}.txt')\n",
    "fb_ev = os.path.join(behavior_dir, f'{sub_num}_output/EV_files/FB_run{run_num}.txt')\n",
    "\n",
    "\n",
    "######################################\n",
    "# Prepare design matrix (GLMsingle expects onsets, durations, conditions)\n",
    "onsets = events['onset'].values\n",
    "durations = events['duration'].values\n",
    "conditions = events['trial_type'].values\n",
    "\n",
    "# Build the design matrix\n",
    "unique_conditions = np.unique(conditions)\n",
    "design = np.zeros((bold_data.shape[-1], len(unique_conditions)))\n",
    "\n",
    "for cond_idx, cond in enumerate(unique_conditions):\n",
    "    trial_onsets = onsets[conditions == cond]\n",
    "    design[trial_onsets.astype(int), cond_idx] = 1\n",
    "\n",
    "# Run GLMsingle\n",
    "glmsingle_params = dict()\n",
    "glmsingle_params['wantlibrary'] = 1\n",
    "glmsingle_params['wantglmdenoise'] = 1\n",
    "glmsingle_params['wantfracridge'] = 1\n",
    "glmsingle_params['wantfileoutputs'] = [0,0,0,1] # only final outputs\n",
    "glmsingle_params['wantmemoryoutputs'] = [0,0,0,0]\n",
    "\n",
    "glm = GLM_single(glmsingle_params)\n",
    "results_glmsingle = glm.fit(design, bold_data, savedir)\n",
    "\n",
    "print(\"GLMsingle complete! Results saved to:\", savedir)\n"
   ]
  },
  {
   "cell_type": "markdown",
   "metadata": {},
   "source": [
    "# Hippocampal ROI"
   ]
  },
  {
   "cell_type": "code",
   "execution_count": null,
   "metadata": {},
   "outputs": [],
   "source": []
  },
  {
   "cell_type": "markdown",
   "metadata": {},
   "source": [
    "# Pattern analyses"
   ]
  },
  {
   "cell_type": "code",
   "execution_count": null,
   "metadata": {},
   "outputs": [],
   "source": [
    "beh = pd.read_csv('./data/hybrid_data.csv')"
   ]
  }
 ],
 "metadata": {
  "kernelspec": {
   "display_name": "hbi",
   "language": "python",
   "name": "python3"
  },
  "language_info": {
   "codemirror_mode": {
    "name": "ipython",
    "version": 3
   },
   "file_extension": ".py",
   "mimetype": "text/x-python",
   "name": "python",
   "nbconvert_exporter": "python",
   "pygments_lexer": "ipython3",
   "version": "3.9.16"
  }
 },
 "nbformat": 4,
 "nbformat_minor": 2
}
